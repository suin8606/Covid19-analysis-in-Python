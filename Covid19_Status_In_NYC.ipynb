{
 "cells": [
  {
   "cell_type": "markdown",
   "metadata": {},
   "source": [
    "#                                            NYC Covid-19 status in the USA"
   ]
  },
  {
   "cell_type": "markdown",
   "metadata": {},
   "source": [
    "## What is Covid-19?"
   ]
  },
  {
   "cell_type": "markdown",
   "metadata": {},
   "source": [
    "Coronavirus disease (COVID-19) is an infectious disease caused by a newly discovered coronavirus.\n",
    "\n",
    "Most people infected with the COVID-19 virus will experience mild to moderate respiratory illness and recover without requiring special treatment.  Older people, and those with underlying medical problems like cardiovascular disease, diabetes, chronic respiratory disease, and cancer are more likely to develop serious illness.\n",
    "\n",
    "The best way to prevent and slow down transmission is to be well informed about the COVID-19 virus, the disease it causes and how it spreads. Protect yourself and others from infection by washing your hands or using an alcohol based rub frequently and not touching your face. \n",
    "\n",
    "The COVID-19 virus spreads primarily through droplets of saliva or discharge from the nose when an infected person coughs or sneezes, so it’s important that you also practice respiratory etiquette (for example, by coughing into a flexed elbow).\n",
    "\n"
   ]
  },
  {
   "cell_type": "markdown",
   "metadata": {},
   "source": [
    "## Project description"
   ]
  },
  {
   "cell_type": "markdown",
   "metadata": {},
   "source": [
    "We have a Covid-19 dataset of the USA.\n",
    "\n",
    "In this project we are going to extract New York City data from this dataset then preprocess, analyse and visualize the data to deliver insights.   "
   ]
  },
  {
   "cell_type": "markdown",
   "metadata": {},
   "source": [
    "## Dataset Description"
   ]
  },
  {
   "cell_type": "markdown",
   "metadata": {},
   "source": [
    "This dataset has number of tests conducted in each state at daily level. <br>\n",
    "Column descriptions are:\n",
    "\n",
    "date - date of observation <br>\n",
    "county - US name of county <br>\n",
    "state - name of the state of the USA <br>\n",
    "fips -  FIPS codes are numbers which uniquely identify geographic areas<br>\n",
    "cases - number of test taken <br>\n",
    "deaths - number of deaths <br> "
   ]
  },
  {
   "cell_type": "markdown",
   "metadata": {},
   "source": [
    "## Loading Modules"
   ]
  },
  {
   "cell_type": "code",
   "execution_count": 2,
   "metadata": {},
   "outputs": [],
   "source": [
    "#packages installed.\n",
    "import pandas as pd\n",
    "import numpy as np\n",
    "import matplotlib.pyplot as plt\n",
    "%matplotlib inline\n",
    "import seaborn as sns\n",
    "sns.set() # setting seaborn default for plots\n",
    "# Regular expression operations\n",
    "import re"
   ]
  },
  {
   "cell_type": "code",
   "execution_count": 3,
   "metadata": {},
   "outputs": [],
   "source": [
    "#pd.set_option()\n",
    "#display jupyter notebook outputs. It does not matter setting beyond 60.\n",
    "pd.options.display.max_columns = 60\n"
   ]
  },
  {
   "cell_type": "markdown",
   "metadata": {},
   "source": [
    "## Loading Dataset"
   ]
  },
  {
   "cell_type": "code",
   "execution_count": 4,
   "metadata": {},
   "outputs": [],
   "source": [
    "#dataset of covid-19 cases in the USA.\n",
    "USA_Counties_Covid_data = pd.read_csv(\"/Users/suinkim/Downloads/PythonCovid/us_counties_covid19_daily.csv\")\n"
   ]
  },
  {
   "cell_type": "code",
   "execution_count": 5,
   "metadata": {},
   "outputs": [
    {
     "name": "stdout",
     "output_type": "stream",
     "text": [
      "         date     county       state     fips  cases  deaths\n",
      "0  2020-01-21  Snohomish  Washington  53061.0      1       0\n",
      "1  2020-01-22  Snohomish  Washington  53061.0      1       0\n",
      "2  2020-01-23  Snohomish  Washington  53061.0      1       0\n",
      "3  2020-01-24       Cook    Illinois  17031.0      1       0\n",
      "4  2020-01-24  Snohomish  Washington  53061.0      1       0\n",
      "              date      county    state     fips  cases  deaths\n",
      "573333  2020-09-26  Sweetwater  Wyoming  56037.0    332       2\n",
      "573334  2020-09-26       Teton  Wyoming  56039.0    536       1\n",
      "573335  2020-09-26       Uinta  Wyoming  56041.0    350       2\n",
      "573336  2020-09-26    Washakie  Wyoming  56043.0    113       6\n",
      "573337  2020-09-26      Weston  Wyoming  56045.0     36       0\n"
     ]
    }
   ],
   "source": [
    "#head of the usa covid-19 cases without filter\n",
    "print(USA_Counties_Covid_data.head())\n",
    "#tail of the usa covid-19 cases without filter\n",
    "print(USA_Counties_Covid_data.tail())"
   ]
  },
  {
   "cell_type": "markdown",
   "metadata": {},
   "source": [
    "## Finding New York City data"
   ]
  },
  {
   "cell_type": "markdown",
   "metadata": {},
   "source": [
    "It was quite tricky to find data of New York City. <br>\n",
    "Technically, New York City is comprised of 5 counties: Queens, Bronx, Manhattan,  Brooklyn and Staten. <br>\n",
    "We tried to find these counties in 'county' field in the given dataset.\n",
    "but we got Empty dataframe as below:"
   ]
  },
  {
   "cell_type": "code",
   "execution_count": 6,
   "metadata": {
    "scrolled": true
   },
   "outputs": [
    {
     "data": {
      "text/html": [
       "<div>\n",
       "<style scoped>\n",
       "    .dataframe tbody tr th:only-of-type {\n",
       "        vertical-align: middle;\n",
       "    }\n",
       "\n",
       "    .dataframe tbody tr th {\n",
       "        vertical-align: top;\n",
       "    }\n",
       "\n",
       "    .dataframe thead th {\n",
       "        text-align: right;\n",
       "    }\n",
       "</style>\n",
       "<table border=\"1\" class=\"dataframe\">\n",
       "  <thead>\n",
       "    <tr style=\"text-align: right;\">\n",
       "      <th></th>\n",
       "      <th>date</th>\n",
       "      <th>county</th>\n",
       "      <th>state</th>\n",
       "      <th>fips</th>\n",
       "      <th>cases</th>\n",
       "      <th>deaths</th>\n",
       "    </tr>\n",
       "  </thead>\n",
       "  <tbody>\n",
       "  </tbody>\n",
       "</table>\n",
       "</div>"
      ],
      "text/plain": [
       "Empty DataFrame\n",
       "Columns: [date, county, state, fips, cases, deaths]\n",
       "Index: []"
      ]
     },
     "metadata": {},
     "output_type": "display_data"
    }
   ],
   "source": [
    "# filter to get only NYC dataset.\n",
    "counties = USA_Counties_Covid_data['county']\n",
    "\n",
    "display(USA_Counties_Covid_data[(counties == 'Queens') | (counties == 'Queens County')])"
   ]
  },
  {
   "cell_type": "markdown",
   "metadata": {},
   "source": [
    "I found through data wrangling that in this data set all five New York City's counties have been merged into New York City in County column. Thus, it does not have a fips code value instead NaN value.\n",
    "I found it by looking all counties in New York State."
   ]
  },
  {
   "cell_type": "code",
   "execution_count": 7,
   "metadata": {
    "scrolled": false
   },
   "outputs": [
    {
     "data": {
      "text/html": [
       "<div>\n",
       "<style scoped>\n",
       "    .dataframe tbody tr th:only-of-type {\n",
       "        vertical-align: middle;\n",
       "    }\n",
       "\n",
       "    .dataframe tbody tr th {\n",
       "        vertical-align: top;\n",
       "    }\n",
       "\n",
       "    .dataframe thead th {\n",
       "        text-align: right;\n",
       "    }\n",
       "</style>\n",
       "<table border=\"1\" class=\"dataframe\">\n",
       "  <thead>\n",
       "    <tr style=\"text-align: right;\">\n",
       "      <th></th>\n",
       "      <th>date</th>\n",
       "      <th>county</th>\n",
       "      <th>state</th>\n",
       "      <th>fips</th>\n",
       "      <th>cases</th>\n",
       "      <th>deaths</th>\n",
       "    </tr>\n",
       "  </thead>\n",
       "  <tbody>\n",
       "    <tr>\n",
       "      <th>416</th>\n",
       "      <td>2020-03-01</td>\n",
       "      <td>New York City</td>\n",
       "      <td>New York</td>\n",
       "      <td>NaN</td>\n",
       "      <td>1</td>\n",
       "      <td>0</td>\n",
       "    </tr>\n",
       "    <tr>\n",
       "      <th>448</th>\n",
       "      <td>2020-03-02</td>\n",
       "      <td>New York City</td>\n",
       "      <td>New York</td>\n",
       "      <td>NaN</td>\n",
       "      <td>1</td>\n",
       "      <td>0</td>\n",
       "    </tr>\n",
       "    <tr>\n",
       "      <th>482</th>\n",
       "      <td>2020-03-03</td>\n",
       "      <td>New York City</td>\n",
       "      <td>New York</td>\n",
       "      <td>NaN</td>\n",
       "      <td>2</td>\n",
       "      <td>0</td>\n",
       "    </tr>\n",
       "    <tr>\n",
       "      <th>518</th>\n",
       "      <td>2020-03-04</td>\n",
       "      <td>New York City</td>\n",
       "      <td>New York</td>\n",
       "      <td>NaN</td>\n",
       "      <td>2</td>\n",
       "      <td>0</td>\n",
       "    </tr>\n",
       "    <tr>\n",
       "      <th>519</th>\n",
       "      <td>2020-03-04</td>\n",
       "      <td>Westchester</td>\n",
       "      <td>New York</td>\n",
       "      <td>36119.0</td>\n",
       "      <td>9</td>\n",
       "      <td>0</td>\n",
       "    </tr>\n",
       "    <tr>\n",
       "      <th>...</th>\n",
       "      <td>...</td>\n",
       "      <td>...</td>\n",
       "      <td>...</td>\n",
       "      <td>...</td>\n",
       "      <td>...</td>\n",
       "      <td>...</td>\n",
       "    </tr>\n",
       "    <tr>\n",
       "      <th>571991</th>\n",
       "      <td>2020-09-26</td>\n",
       "      <td>Washington</td>\n",
       "      <td>New York</td>\n",
       "      <td>36115.0</td>\n",
       "      <td>296</td>\n",
       "      <td>14</td>\n",
       "    </tr>\n",
       "    <tr>\n",
       "      <th>571992</th>\n",
       "      <td>2020-09-26</td>\n",
       "      <td>Wayne</td>\n",
       "      <td>New York</td>\n",
       "      <td>36117.0</td>\n",
       "      <td>316</td>\n",
       "      <td>3</td>\n",
       "    </tr>\n",
       "    <tr>\n",
       "      <th>571993</th>\n",
       "      <td>2020-09-26</td>\n",
       "      <td>Westchester</td>\n",
       "      <td>New York</td>\n",
       "      <td>36119.0</td>\n",
       "      <td>38050</td>\n",
       "      <td>1456</td>\n",
       "    </tr>\n",
       "    <tr>\n",
       "      <th>571994</th>\n",
       "      <td>2020-09-26</td>\n",
       "      <td>Wyoming</td>\n",
       "      <td>New York</td>\n",
       "      <td>36121.0</td>\n",
       "      <td>136</td>\n",
       "      <td>5</td>\n",
       "    </tr>\n",
       "    <tr>\n",
       "      <th>571995</th>\n",
       "      <td>2020-09-26</td>\n",
       "      <td>Yates</td>\n",
       "      <td>New York</td>\n",
       "      <td>36123.0</td>\n",
       "      <td>62</td>\n",
       "      <td>6</td>\n",
       "    </tr>\n",
       "  </tbody>\n",
       "</table>\n",
       "<p>11240 rows × 6 columns</p>\n",
       "</div>"
      ],
      "text/plain": [
       "              date         county     state     fips  cases  deaths\n",
       "416     2020-03-01  New York City  New York      NaN      1       0\n",
       "448     2020-03-02  New York City  New York      NaN      1       0\n",
       "482     2020-03-03  New York City  New York      NaN      2       0\n",
       "518     2020-03-04  New York City  New York      NaN      2       0\n",
       "519     2020-03-04    Westchester  New York  36119.0      9       0\n",
       "...            ...            ...       ...      ...    ...     ...\n",
       "571991  2020-09-26     Washington  New York  36115.0    296      14\n",
       "571992  2020-09-26          Wayne  New York  36117.0    316       3\n",
       "571993  2020-09-26    Westchester  New York  36119.0  38050    1456\n",
       "571994  2020-09-26        Wyoming  New York  36121.0    136       5\n",
       "571995  2020-09-26          Yates  New York  36123.0     62       6\n",
       "\n",
       "[11240 rows x 6 columns]"
      ]
     },
     "metadata": {},
     "output_type": "display_data"
    },
    {
     "data": {
      "text/plain": [
       "array(['New York City', 'Westchester', 'Nassau', 'Rockland', 'Saratoga',\n",
       "       'Suffolk', 'Ulster', 'Monroe', 'Albany', 'Delaware', 'Dutchess',\n",
       "       'Herkimer', 'Orange', 'Schenectady', 'Broome', 'Tioga', 'Tompkins',\n",
       "       'Erie', 'Greene', 'Montgomery', 'Putnam', 'Allegany', 'Onondaga',\n",
       "       'Ontario', 'Clinton', 'Rensselaer', 'Sullivan', 'Wyoming',\n",
       "       'Chenango', 'Essex', 'Hamilton', 'Jefferson', 'Livingston',\n",
       "       'Warren', 'Washington', 'Schoharie', 'Wayne', 'Columbia', 'Fulton',\n",
       "       'Genesee', 'Niagara', 'Oneida', 'Steuben', 'Cortland', 'Madison',\n",
       "       'St. Lawrence', 'Cayuga', 'Oswego', 'Otsego', 'Chemung', 'Orleans',\n",
       "       'Chautauqua', 'Franklin', 'Cattaraugus', 'Schuyler', 'Lewis',\n",
       "       'Unknown', 'Seneca', 'Yates'], dtype=object)"
      ]
     },
     "metadata": {},
     "output_type": "display_data"
    }
   ],
   "source": [
    "# Counties in New York State\n",
    "onlyNewYorkState = USA_Counties_Covid_data[USA_Counties_Covid_data['state'] == 'New York']\n",
    "display(onlyNewYorkState)\n",
    "# Unique County names in New York State\n",
    "display(onlyNewYorkState.county.unique())"
   ]
  },
  {
   "cell_type": "markdown",
   "metadata": {},
   "source": [
    "## Finding Records with Unkown County Values"
   ]
  },
  {
   "cell_type": "markdown",
   "metadata": {},
   "source": [
    "While finding NYC data we also found there are records with unknown county name."
   ]
  },
  {
   "cell_type": "code",
   "execution_count": 6,
   "metadata": {},
   "outputs": [
    {
     "data": {
      "text/html": [
       "<div>\n",
       "<style scoped>\n",
       "    .dataframe tbody tr th:only-of-type {\n",
       "        vertical-align: middle;\n",
       "    }\n",
       "\n",
       "    .dataframe tbody tr th {\n",
       "        vertical-align: top;\n",
       "    }\n",
       "\n",
       "    .dataframe thead th {\n",
       "        text-align: right;\n",
       "    }\n",
       "</style>\n",
       "<table border=\"1\" class=\"dataframe\">\n",
       "  <thead>\n",
       "    <tr style=\"text-align: right;\">\n",
       "      <th></th>\n",
       "      <th>date</th>\n",
       "      <th>county</th>\n",
       "      <th>state</th>\n",
       "      <th>fips</th>\n",
       "      <th>cases</th>\n",
       "      <th>deaths</th>\n",
       "    </tr>\n",
       "  </thead>\n",
       "  <tbody>\n",
       "    <tr>\n",
       "      <th>18873</th>\n",
       "      <td>2020-03-29</td>\n",
       "      <td>Unknown</td>\n",
       "      <td>New York</td>\n",
       "      <td>NaN</td>\n",
       "      <td>0</td>\n",
       "      <td>68</td>\n",
       "    </tr>\n",
       "    <tr>\n",
       "      <th>20912</th>\n",
       "      <td>2020-03-30</td>\n",
       "      <td>Unknown</td>\n",
       "      <td>New York</td>\n",
       "      <td>NaN</td>\n",
       "      <td>0</td>\n",
       "      <td>162</td>\n",
       "    </tr>\n",
       "    <tr>\n",
       "      <th>23036</th>\n",
       "      <td>2020-03-31</td>\n",
       "      <td>Unknown</td>\n",
       "      <td>New York</td>\n",
       "      <td>NaN</td>\n",
       "      <td>0</td>\n",
       "      <td>268</td>\n",
       "    </tr>\n",
       "    <tr>\n",
       "      <th>25230</th>\n",
       "      <td>2020-04-01</td>\n",
       "      <td>Unknown</td>\n",
       "      <td>New York</td>\n",
       "      <td>NaN</td>\n",
       "      <td>0</td>\n",
       "      <td>289</td>\n",
       "    </tr>\n",
       "    <tr>\n",
       "      <th>27490</th>\n",
       "      <td>2020-04-02</td>\n",
       "      <td>Unknown</td>\n",
       "      <td>New York</td>\n",
       "      <td>NaN</td>\n",
       "      <td>0</td>\n",
       "      <td>415</td>\n",
       "    </tr>\n",
       "    <tr>\n",
       "      <th>29814</th>\n",
       "      <td>2020-04-03</td>\n",
       "      <td>Unknown</td>\n",
       "      <td>New York</td>\n",
       "      <td>NaN</td>\n",
       "      <td>0</td>\n",
       "      <td>608</td>\n",
       "    </tr>\n",
       "    <tr>\n",
       "      <th>32200</th>\n",
       "      <td>2020-04-04</td>\n",
       "      <td>Unknown</td>\n",
       "      <td>New York</td>\n",
       "      <td>NaN</td>\n",
       "      <td>0</td>\n",
       "      <td>309</td>\n",
       "    </tr>\n",
       "    <tr>\n",
       "      <th>34631</th>\n",
       "      <td>2020-04-05</td>\n",
       "      <td>Unknown</td>\n",
       "      <td>New York</td>\n",
       "      <td>NaN</td>\n",
       "      <td>0</td>\n",
       "      <td>678</td>\n",
       "    </tr>\n",
       "    <tr>\n",
       "      <th>66262</th>\n",
       "      <td>2020-04-17</td>\n",
       "      <td>Unknown</td>\n",
       "      <td>New York</td>\n",
       "      <td>NaN</td>\n",
       "      <td>0</td>\n",
       "      <td>630</td>\n",
       "    </tr>\n",
       "    <tr>\n",
       "      <th>69019</th>\n",
       "      <td>2020-04-18</td>\n",
       "      <td>Unknown</td>\n",
       "      <td>New York</td>\n",
       "      <td>NaN</td>\n",
       "      <td>0</td>\n",
       "      <td>1170</td>\n",
       "    </tr>\n",
       "  </tbody>\n",
       "</table>\n",
       "</div>"
      ],
      "text/plain": [
       "             date   county     state  fips  cases  deaths\n",
       "18873  2020-03-29  Unknown  New York   NaN      0      68\n",
       "20912  2020-03-30  Unknown  New York   NaN      0     162\n",
       "23036  2020-03-31  Unknown  New York   NaN      0     268\n",
       "25230  2020-04-01  Unknown  New York   NaN      0     289\n",
       "27490  2020-04-02  Unknown  New York   NaN      0     415\n",
       "29814  2020-04-03  Unknown  New York   NaN      0     608\n",
       "32200  2020-04-04  Unknown  New York   NaN      0     309\n",
       "34631  2020-04-05  Unknown  New York   NaN      0     678\n",
       "66262  2020-04-17  Unknown  New York   NaN      0     630\n",
       "69019  2020-04-18  Unknown  New York   NaN      0    1170"
      ]
     },
     "execution_count": 6,
     "metadata": {},
     "output_type": "execute_result"
    }
   ],
   "source": [
    "# unknown country in New York\n",
    "Unknown = USA_Counties_Covid_data[USA_Countiees_Covid_data['county'] == 'Unknown']\n",
    "Unknown[Unknown['state'] == \"New York\"]"
   ]
  },
  {
   "cell_type": "markdown",
   "metadata": {},
   "source": [
    "Finding number of records with unknown counties:"
   ]
  },
  {
   "cell_type": "code",
   "execution_count": 7,
   "metadata": {},
   "outputs": [
    {
     "data": {
      "text/plain": [
       "10"
      ]
     },
     "execution_count": 7,
     "metadata": {},
     "output_type": "execute_result"
    }
   ],
   "source": [
    "len(Unknown[Unknown['state'] == \"New York\"].county)"
   ]
  },
  {
   "cell_type": "markdown",
   "metadata": {},
   "source": [
    "## Extracting New York City data"
   ]
  },
  {
   "cell_type": "markdown",
   "metadata": {},
   "source": [
    "Extracting New York City data from the dataset."
   ]
  },
  {
   "cell_type": "code",
   "execution_count": 16,
   "metadata": {},
   "outputs": [
    {
     "data": {
      "text/html": [
       "<div>\n",
       "<style scoped>\n",
       "    .dataframe tbody tr th:only-of-type {\n",
       "        vertical-align: middle;\n",
       "    }\n",
       "\n",
       "    .dataframe tbody tr th {\n",
       "        vertical-align: top;\n",
       "    }\n",
       "\n",
       "    .dataframe thead th {\n",
       "        text-align: right;\n",
       "    }\n",
       "</style>\n",
       "<table border=\"1\" class=\"dataframe\">\n",
       "  <thead>\n",
       "    <tr style=\"text-align: right;\">\n",
       "      <th></th>\n",
       "      <th>date</th>\n",
       "      <th>county</th>\n",
       "      <th>state</th>\n",
       "      <th>fips</th>\n",
       "      <th>cases</th>\n",
       "      <th>deaths</th>\n",
       "    </tr>\n",
       "  </thead>\n",
       "  <tbody>\n",
       "    <tr>\n",
       "      <th>416</th>\n",
       "      <td>2020-03-01</td>\n",
       "      <td>New York City</td>\n",
       "      <td>New York</td>\n",
       "      <td>NaN</td>\n",
       "      <td>1</td>\n",
       "      <td>0</td>\n",
       "    </tr>\n",
       "    <tr>\n",
       "      <th>448</th>\n",
       "      <td>2020-03-02</td>\n",
       "      <td>New York City</td>\n",
       "      <td>New York</td>\n",
       "      <td>NaN</td>\n",
       "      <td>1</td>\n",
       "      <td>0</td>\n",
       "    </tr>\n",
       "    <tr>\n",
       "      <th>482</th>\n",
       "      <td>2020-03-03</td>\n",
       "      <td>New York City</td>\n",
       "      <td>New York</td>\n",
       "      <td>NaN</td>\n",
       "      <td>2</td>\n",
       "      <td>0</td>\n",
       "    </tr>\n",
       "    <tr>\n",
       "      <th>518</th>\n",
       "      <td>2020-03-04</td>\n",
       "      <td>New York City</td>\n",
       "      <td>New York</td>\n",
       "      <td>NaN</td>\n",
       "      <td>2</td>\n",
       "      <td>0</td>\n",
       "    </tr>\n",
       "    <tr>\n",
       "      <th>565</th>\n",
       "      <td>2020-03-05</td>\n",
       "      <td>New York City</td>\n",
       "      <td>New York</td>\n",
       "      <td>NaN</td>\n",
       "      <td>4</td>\n",
       "      <td>0</td>\n",
       "    </tr>\n",
       "    <tr>\n",
       "      <th>...</th>\n",
       "      <td>...</td>\n",
       "      <td>...</td>\n",
       "      <td>...</td>\n",
       "      <td>...</td>\n",
       "      <td>...</td>\n",
       "      <td>...</td>\n",
       "    </tr>\n",
       "    <tr>\n",
       "      <th>559005</th>\n",
       "      <td>2020-09-22</td>\n",
       "      <td>New York City</td>\n",
       "      <td>New York</td>\n",
       "      <td>NaN</td>\n",
       "      <td>245495</td>\n",
       "      <td>23780</td>\n",
       "    </tr>\n",
       "    <tr>\n",
       "      <th>562242</th>\n",
       "      <td>2020-09-23</td>\n",
       "      <td>New York City</td>\n",
       "      <td>New York</td>\n",
       "      <td>NaN</td>\n",
       "      <td>245776</td>\n",
       "      <td>23780</td>\n",
       "    </tr>\n",
       "    <tr>\n",
       "      <th>565483</th>\n",
       "      <td>2020-09-24</td>\n",
       "      <td>New York City</td>\n",
       "      <td>New York</td>\n",
       "      <td>NaN</td>\n",
       "      <td>246198</td>\n",
       "      <td>23785</td>\n",
       "    </tr>\n",
       "    <tr>\n",
       "      <th>568724</th>\n",
       "      <td>2020-09-25</td>\n",
       "      <td>New York City</td>\n",
       "      <td>New York</td>\n",
       "      <td>NaN</td>\n",
       "      <td>246570</td>\n",
       "      <td>23792</td>\n",
       "    </tr>\n",
       "    <tr>\n",
       "      <th>571966</th>\n",
       "      <td>2020-09-26</td>\n",
       "      <td>New York City</td>\n",
       "      <td>New York</td>\n",
       "      <td>NaN</td>\n",
       "      <td>247000</td>\n",
       "      <td>23795</td>\n",
       "    </tr>\n",
       "  </tbody>\n",
       "</table>\n",
       "<p>210 rows × 6 columns</p>\n",
       "</div>"
      ],
      "text/plain": [
       "              date         county     state  fips   cases  deaths\n",
       "416     2020-03-01  New York City  New York   NaN       1       0\n",
       "448     2020-03-02  New York City  New York   NaN       1       0\n",
       "482     2020-03-03  New York City  New York   NaN       2       0\n",
       "518     2020-03-04  New York City  New York   NaN       2       0\n",
       "565     2020-03-05  New York City  New York   NaN       4       0\n",
       "...            ...            ...       ...   ...     ...     ...\n",
       "559005  2020-09-22  New York City  New York   NaN  245495   23780\n",
       "562242  2020-09-23  New York City  New York   NaN  245776   23780\n",
       "565483  2020-09-24  New York City  New York   NaN  246198   23785\n",
       "568724  2020-09-25  New York City  New York   NaN  246570   23792\n",
       "571966  2020-09-26  New York City  New York   NaN  247000   23795\n",
       "\n",
       "[210 rows x 6 columns]"
      ]
     },
     "metadata": {},
     "output_type": "display_data"
    }
   ],
   "source": [
    "NYCdata = USA_Counties_Covid_data[USA_Counties_Covid_data['county'] == 'New York City']\n",
    "display(NYCdata)"
   ]
  },
  {
   "cell_type": "markdown",
   "metadata": {},
   "source": [
    "## Looking into NYC dataset"
   ]
  },
  {
   "cell_type": "markdown",
   "metadata": {},
   "source": [
    "### Shape of data"
   ]
  },
  {
   "cell_type": "code",
   "execution_count": 17,
   "metadata": {},
   "outputs": [
    {
     "data": {
      "text/plain": [
       "(210, 6)"
      ]
     },
     "execution_count": 17,
     "metadata": {},
     "output_type": "execute_result"
    }
   ],
   "source": [
    "# 210 rows and 6 columns.\n",
    "NYCdata.shape"
   ]
  },
  {
   "cell_type": "markdown",
   "metadata": {},
   "source": [
    "### Describing dataset"
   ]
  },
  {
   "cell_type": "code",
   "execution_count": 10,
   "metadata": {},
   "outputs": [
    {
     "data": {
      "text/html": [
       "<div>\n",
       "<style scoped>\n",
       "    .dataframe tbody tr th:only-of-type {\n",
       "        vertical-align: middle;\n",
       "    }\n",
       "\n",
       "    .dataframe tbody tr th {\n",
       "        vertical-align: top;\n",
       "    }\n",
       "\n",
       "    .dataframe thead th {\n",
       "        text-align: right;\n",
       "    }\n",
       "</style>\n",
       "<table border=\"1\" class=\"dataframe\">\n",
       "  <thead>\n",
       "    <tr style=\"text-align: right;\">\n",
       "      <th></th>\n",
       "      <th>fips</th>\n",
       "      <th>cases</th>\n",
       "      <th>deaths</th>\n",
       "    </tr>\n",
       "  </thead>\n",
       "  <tbody>\n",
       "    <tr>\n",
       "      <th>count</th>\n",
       "      <td>0.0</td>\n",
       "      <td>210.000000</td>\n",
       "      <td>210.000000</td>\n",
       "    </tr>\n",
       "    <tr>\n",
       "      <th>mean</th>\n",
       "      <td>NaN</td>\n",
       "      <td>175434.704762</td>\n",
       "      <td>17378.095238</td>\n",
       "    </tr>\n",
       "    <tr>\n",
       "      <th>std</th>\n",
       "      <td>NaN</td>\n",
       "      <td>81171.976756</td>\n",
       "      <td>8508.174349</td>\n",
       "    </tr>\n",
       "    <tr>\n",
       "      <th>min</th>\n",
       "      <td>NaN</td>\n",
       "      <td>1.000000</td>\n",
       "      <td>0.000000</td>\n",
       "    </tr>\n",
       "    <tr>\n",
       "      <th>25%</th>\n",
       "      <td>NaN</td>\n",
       "      <td>147672.000000</td>\n",
       "      <td>15059.500000</td>\n",
       "    </tr>\n",
       "    <tr>\n",
       "      <th>50%</th>\n",
       "      <td>NaN</td>\n",
       "      <td>214434.500000</td>\n",
       "      <td>21564.500000</td>\n",
       "    </tr>\n",
       "    <tr>\n",
       "      <th>75%</th>\n",
       "      <td>NaN</td>\n",
       "      <td>231192.000000</td>\n",
       "      <td>23032.250000</td>\n",
       "    </tr>\n",
       "    <tr>\n",
       "      <th>max</th>\n",
       "      <td>NaN</td>\n",
       "      <td>247000.000000</td>\n",
       "      <td>23795.000000</td>\n",
       "    </tr>\n",
       "  </tbody>\n",
       "</table>\n",
       "</div>"
      ],
      "text/plain": [
       "       fips          cases        deaths\n",
       "count   0.0     210.000000    210.000000\n",
       "mean    NaN  175434.704762  17378.095238\n",
       "std     NaN   81171.976756   8508.174349\n",
       "min     NaN       1.000000      0.000000\n",
       "25%     NaN  147672.000000  15059.500000\n",
       "50%     NaN  214434.500000  21564.500000\n",
       "75%     NaN  231192.000000  23032.250000\n",
       "max     NaN  247000.000000  23795.000000"
      ]
     },
     "execution_count": 10,
     "metadata": {},
     "output_type": "execute_result"
    }
   ],
   "source": [
    "#25%, 50%, 75% percentiles. \n",
    "NYCdata.describe()"
   ]
  },
  {
   "cell_type": "markdown",
   "metadata": {},
   "source": [
    "<strong>This shows that 'flips' column has NaN values and shoud be removed.<strong>"
   ]
  },
  {
   "cell_type": "code",
   "execution_count": 20,
   "metadata": {},
   "outputs": [
    {
     "data": {
      "text/html": [
       "<div>\n",
       "<style scoped>\n",
       "    .dataframe tbody tr th:only-of-type {\n",
       "        vertical-align: middle;\n",
       "    }\n",
       "\n",
       "    .dataframe tbody tr th {\n",
       "        vertical-align: top;\n",
       "    }\n",
       "\n",
       "    .dataframe thead th {\n",
       "        text-align: right;\n",
       "    }\n",
       "</style>\n",
       "<table border=\"1\" class=\"dataframe\">\n",
       "  <thead>\n",
       "    <tr style=\"text-align: right;\">\n",
       "      <th></th>\n",
       "      <th>date</th>\n",
       "      <th>county</th>\n",
       "      <th>state</th>\n",
       "    </tr>\n",
       "  </thead>\n",
       "  <tbody>\n",
       "    <tr>\n",
       "      <th>count</th>\n",
       "      <td>210</td>\n",
       "      <td>210</td>\n",
       "      <td>210</td>\n",
       "    </tr>\n",
       "    <tr>\n",
       "      <th>unique</th>\n",
       "      <td>210</td>\n",
       "      <td>1</td>\n",
       "      <td>1</td>\n",
       "    </tr>\n",
       "    <tr>\n",
       "      <th>top</th>\n",
       "      <td>2020-06-22</td>\n",
       "      <td>New York City</td>\n",
       "      <td>New York</td>\n",
       "    </tr>\n",
       "    <tr>\n",
       "      <th>freq</th>\n",
       "      <td>1</td>\n",
       "      <td>210</td>\n",
       "      <td>210</td>\n",
       "    </tr>\n",
       "  </tbody>\n",
       "</table>\n",
       "</div>"
      ],
      "text/plain": [
       "              date         county     state\n",
       "count          210            210       210\n",
       "unique         210              1         1\n",
       "top     2020-06-22  New York City  New York\n",
       "freq             1            210       210"
      ]
     },
     "execution_count": 20,
     "metadata": {},
     "output_type": "execute_result"
    }
   ],
   "source": [
    "# select_dtypes. Top means the most common value. The freq is the most common value’s frequency.\n",
    "NYCdata.describe(include=['O'])"
   ]
  },
  {
   "cell_type": "markdown",
   "metadata": {},
   "source": [
    "<strong>This shows that there is no duplicate record.</strong>"
   ]
  },
  {
   "cell_type": "markdown",
   "metadata": {},
   "source": [
    "### Datatypes"
   ]
  },
  {
   "cell_type": "code",
   "execution_count": 12,
   "metadata": {},
   "outputs": [
    {
     "data": {
      "text/plain": [
       "date       object\n",
       "county     object\n",
       "state      object\n",
       "fips      float64\n",
       "cases       int64\n",
       "deaths      int64\n",
       "dtype: object"
      ]
     },
     "execution_count": 12,
     "metadata": {},
     "output_type": "execute_result"
    }
   ],
   "source": [
    "NYCdata.dtypes"
   ]
  },
  {
   "cell_type": "markdown",
   "metadata": {},
   "source": [
    "### Checking for Null Values"
   ]
  },
  {
   "cell_type": "code",
   "execution_count": 13,
   "metadata": {},
   "outputs": [
    {
     "data": {
      "text/plain": [
       "date        0\n",
       "county      0\n",
       "state       0\n",
       "fips      210\n",
       "cases       0\n",
       "deaths      0\n",
       "dtype: int64"
      ]
     },
     "execution_count": 13,
     "metadata": {},
     "output_type": "execute_result"
    }
   ],
   "source": [
    "#sum of null values. \n",
    "NYCdata.isnull().sum()"
   ]
  },
  {
   "cell_type": "markdown",
   "metadata": {},
   "source": [
    "<strong>This shows that fips column has null values.</strong>"
   ]
  },
  {
   "cell_type": "markdown",
   "metadata": {},
   "source": [
    "### First update date of the data"
   ]
  },
  {
   "cell_type": "code",
   "execution_count": 14,
   "metadata": {},
   "outputs": [
    {
     "name": "stdout",
     "output_type": "stream",
     "text": [
      "First update date: 2020-03-01\n"
     ]
    }
   ],
   "source": [
    "#first day of corona case updated\n",
    "print(\"First update date: \"+NYCdata.date.min())"
   ]
  },
  {
   "cell_type": "markdown",
   "metadata": {},
   "source": [
    "### Last update date of the data"
   ]
  },
  {
   "cell_type": "code",
   "execution_count": 15,
   "metadata": {},
   "outputs": [
    {
     "name": "stdout",
     "output_type": "stream",
     "text": [
      "Last update date: 2020-09-26\n"
     ]
    }
   ],
   "source": [
    "#last day updated in dataset.\n",
    "print(\"Last update date: \"+NYCdata.date.max())"
   ]
  },
  {
   "cell_type": "markdown",
   "metadata": {},
   "source": [
    "## Pre-processing"
   ]
  },
  {
   "cell_type": "code",
   "execution_count": 23,
   "metadata": {},
   "outputs": [
    {
     "data": {
      "text/plain": [
       "416      NaN\n",
       "448      NaN\n",
       "482      NaN\n",
       "518      NaN\n",
       "565      NaN\n",
       "          ..\n",
       "559005   NaN\n",
       "562242   NaN\n",
       "565483   NaN\n",
       "568724   NaN\n",
       "571966   NaN\n",
       "Name: fips, Length: 210, dtype: float64"
      ]
     },
     "execution_count": 23,
     "metadata": {},
     "output_type": "execute_result"
    }
   ],
   "source": [
    "#unnecessary dataset\n",
    "NYCdata.fips"
   ]
  },
  {
   "cell_type": "markdown",
   "metadata": {},
   "source": [
    "### Removing 'fips' code column"
   ]
  },
  {
   "cell_type": "markdown",
   "metadata": {},
   "source": [
    "Removing the 'fips' column because it contains all NaN(Not a Number) values."
   ]
  },
  {
   "cell_type": "code",
   "execution_count": 24,
   "metadata": {},
   "outputs": [
    {
     "data": {
      "text/html": [
       "<div>\n",
       "<style scoped>\n",
       "    .dataframe tbody tr th:only-of-type {\n",
       "        vertical-align: middle;\n",
       "    }\n",
       "\n",
       "    .dataframe tbody tr th {\n",
       "        vertical-align: top;\n",
       "    }\n",
       "\n",
       "    .dataframe thead th {\n",
       "        text-align: right;\n",
       "    }\n",
       "</style>\n",
       "<table border=\"1\" class=\"dataframe\">\n",
       "  <thead>\n",
       "    <tr style=\"text-align: right;\">\n",
       "      <th></th>\n",
       "      <th>date</th>\n",
       "      <th>county</th>\n",
       "      <th>state</th>\n",
       "      <th>cases</th>\n",
       "      <th>deaths</th>\n",
       "    </tr>\n",
       "  </thead>\n",
       "  <tbody>\n",
       "    <tr>\n",
       "      <th>416</th>\n",
       "      <td>2020-03-01</td>\n",
       "      <td>New York City</td>\n",
       "      <td>New York</td>\n",
       "      <td>1</td>\n",
       "      <td>0</td>\n",
       "    </tr>\n",
       "    <tr>\n",
       "      <th>448</th>\n",
       "      <td>2020-03-02</td>\n",
       "      <td>New York City</td>\n",
       "      <td>New York</td>\n",
       "      <td>1</td>\n",
       "      <td>0</td>\n",
       "    </tr>\n",
       "    <tr>\n",
       "      <th>482</th>\n",
       "      <td>2020-03-03</td>\n",
       "      <td>New York City</td>\n",
       "      <td>New York</td>\n",
       "      <td>2</td>\n",
       "      <td>0</td>\n",
       "    </tr>\n",
       "    <tr>\n",
       "      <th>518</th>\n",
       "      <td>2020-03-04</td>\n",
       "      <td>New York City</td>\n",
       "      <td>New York</td>\n",
       "      <td>2</td>\n",
       "      <td>0</td>\n",
       "    </tr>\n",
       "    <tr>\n",
       "      <th>565</th>\n",
       "      <td>2020-03-05</td>\n",
       "      <td>New York City</td>\n",
       "      <td>New York</td>\n",
       "      <td>4</td>\n",
       "      <td>0</td>\n",
       "    </tr>\n",
       "    <tr>\n",
       "      <th>...</th>\n",
       "      <td>...</td>\n",
       "      <td>...</td>\n",
       "      <td>...</td>\n",
       "      <td>...</td>\n",
       "      <td>...</td>\n",
       "    </tr>\n",
       "    <tr>\n",
       "      <th>559005</th>\n",
       "      <td>2020-09-22</td>\n",
       "      <td>New York City</td>\n",
       "      <td>New York</td>\n",
       "      <td>245495</td>\n",
       "      <td>23780</td>\n",
       "    </tr>\n",
       "    <tr>\n",
       "      <th>562242</th>\n",
       "      <td>2020-09-23</td>\n",
       "      <td>New York City</td>\n",
       "      <td>New York</td>\n",
       "      <td>245776</td>\n",
       "      <td>23780</td>\n",
       "    </tr>\n",
       "    <tr>\n",
       "      <th>565483</th>\n",
       "      <td>2020-09-24</td>\n",
       "      <td>New York City</td>\n",
       "      <td>New York</td>\n",
       "      <td>246198</td>\n",
       "      <td>23785</td>\n",
       "    </tr>\n",
       "    <tr>\n",
       "      <th>568724</th>\n",
       "      <td>2020-09-25</td>\n",
       "      <td>New York City</td>\n",
       "      <td>New York</td>\n",
       "      <td>246570</td>\n",
       "      <td>23792</td>\n",
       "    </tr>\n",
       "    <tr>\n",
       "      <th>571966</th>\n",
       "      <td>2020-09-26</td>\n",
       "      <td>New York City</td>\n",
       "      <td>New York</td>\n",
       "      <td>247000</td>\n",
       "      <td>23795</td>\n",
       "    </tr>\n",
       "  </tbody>\n",
       "</table>\n",
       "<p>210 rows × 5 columns</p>\n",
       "</div>"
      ],
      "text/plain": [
       "              date         county     state   cases  deaths\n",
       "416     2020-03-01  New York City  New York       1       0\n",
       "448     2020-03-02  New York City  New York       1       0\n",
       "482     2020-03-03  New York City  New York       2       0\n",
       "518     2020-03-04  New York City  New York       2       0\n",
       "565     2020-03-05  New York City  New York       4       0\n",
       "...            ...            ...       ...     ...     ...\n",
       "559005  2020-09-22  New York City  New York  245495   23780\n",
       "562242  2020-09-23  New York City  New York  245776   23780\n",
       "565483  2020-09-24  New York City  New York  246198   23785\n",
       "568724  2020-09-25  New York City  New York  246570   23792\n",
       "571966  2020-09-26  New York City  New York  247000   23795\n",
       "\n",
       "[210 rows x 5 columns]"
      ]
     },
     "metadata": {},
     "output_type": "display_data"
    }
   ],
   "source": [
    "# duplicating\n",
    "NYCdata_clean = NYCdata\n",
    "# removing 'flips' column\n",
    "NYCdata_clean = NYCdata_clean.drop(columns='fips')\n",
    "display(NYCdata_clean)"
   ]
  },
  {
   "cell_type": "markdown",
   "metadata": {},
   "source": [
    "## Visualizations"
   ]
  },
  {
   "cell_type": "markdown",
   "metadata": {},
   "source": [
    "#### Total Cases and Deaths"
   ]
  },
  {
   "cell_type": "code",
   "execution_count": 27,
   "metadata": {},
   "outputs": [
    {
     "name": "stdout",
     "output_type": "stream",
     "text": [
      "Cases: 247000\n",
      "Deaths: 23795 (9.6% total cases)\n"
     ]
    }
   ],
   "source": [
    "total_cases = NYCdata_clean['cases'].max()\n",
    "total_deaths = NYCdata_clean['deaths'].max()\n",
    "print(\"Cases: %i\" % ( total_cases))\n",
    "print(\"Deaths: %i (%.1f%% total cases)\" % (total_deaths, float(total_deaths)/total_cases*100.0))\n",
    "#print(\"Total: %i\"%len(total_cases))"
   ]
  },
  {
   "cell_type": "code",
   "execution_count": 28,
   "metadata": {},
   "outputs": [
    {
     "name": "stdout",
     "output_type": "stream",
     "text": [
      "              count\n",
      "Cases        247000\n",
      "Deaths 9.6%   23795\n"
     ]
    },
    {
     "data": {
      "text/plain": [
       "array([<matplotlib.axes._subplots.AxesSubplot object at 0x119fc1910>],\n",
       "      dtype=object)"
      ]
     },
     "metadata": {},
     "output_type": "display_data"
    },
    {
     "data": {
      "image/png": "[encoded data removed]",
      "text/plain": [
       "<Figure size 432x432 with 1 Axes>"
      ]
     },
     "metadata": {},
     "output_type": "display_data"
    }
   ],
   "source": [
    "# Making DataFrame of total cases and deaths\n",
    "total_number = pd.DataFrame([247000,23795], index = ['Cases','Deaths 9.6%'], columns = ['count'])\n",
    "# Plotting pie chart\n",
    "display(total_number.plot(subplots=True, kind='pie', figsize=(6, 6)))"
   ]
  },
  {
   "cell_type": "markdown",
   "metadata": {},
   "source": [
    "### Cases and death timeline plot"
   ]
  },
  {
   "cell_type": "code",
   "execution_count": 38,
   "metadata": {},
   "outputs": [
    {
     "data": {
      "text/plain": [
       "<matplotlib.axes._subplots.AxesSubplot at 0x11c318130>"
      ]
     },
     "execution_count": 38,
     "metadata": {},
     "output_type": "execute_result"
    },
    {
     "data": {
      "image/png": "[encoded data removed]",
      "text/plain": [
       "<Figure size 1080x432 with 1 Axes>"
      ]
     },
     "metadata": {},
     "output_type": "display_data"
    }
   ],
   "source": [
    "NYCdata_datetime = NYCdata_clean\n",
    "#making DataFrame of date as follows year-month-day\n",
    "NYCdata_datetime['date'] = pd.to_datetime(NYCdata_datetime['date'], format='%Y-%m-%d')\n",
    "NYCdata_datetimeIndex_df = NYCdata_datetime.set_index(['date'])\n",
    "NYCdata_datetimeIndex_df.index = pd.to_datetime(NYCdata_datetimeIndex_df.index)\n",
    "NYCdata_datetimeIndex_df[[\"cases\", \"deaths\"]].plot(figsize=(15,6))"
   ]
  },
  {
   "cell_type": "markdown",
   "metadata": {},
   "source": [
    "<h3> Cases and death <strong>rate</strong> timeline plot</h3>"
   ]
  },
  {
   "cell_type": "code",
   "execution_count": 40,
   "metadata": {},
   "outputs": [
    {
     "data": {
      "text/html": [
       "<div>\n",
       "<style scoped>\n",
       "    .dataframe tbody tr th:only-of-type {\n",
       "        vertical-align: middle;\n",
       "    }\n",
       "\n",
       "    .dataframe tbody tr th {\n",
       "        vertical-align: top;\n",
       "    }\n",
       "\n",
       "    .dataframe thead th {\n",
       "        text-align: right;\n",
       "    }\n",
       "</style>\n",
       "<table border=\"1\" class=\"dataframe\">\n",
       "  <thead>\n",
       "    <tr style=\"text-align: right;\">\n",
       "      <th></th>\n",
       "      <th>date</th>\n",
       "      <th>county</th>\n",
       "      <th>state</th>\n",
       "      <th>cases</th>\n",
       "      <th>deaths</th>\n",
       "    </tr>\n",
       "  </thead>\n",
       "  <tbody>\n",
       "    <tr>\n",
       "      <th>0</th>\n",
       "      <td>2020-03-01</td>\n",
       "      <td>New York City</td>\n",
       "      <td>New York</td>\n",
       "      <td>1</td>\n",
       "      <td>0</td>\n",
       "    </tr>\n",
       "    <tr>\n",
       "      <th>1</th>\n",
       "      <td>2020-03-02</td>\n",
       "      <td>New York City</td>\n",
       "      <td>New York</td>\n",
       "      <td>1</td>\n",
       "      <td>0</td>\n",
       "    </tr>\n",
       "    <tr>\n",
       "      <th>2</th>\n",
       "      <td>2020-03-03</td>\n",
       "      <td>New York City</td>\n",
       "      <td>New York</td>\n",
       "      <td>2</td>\n",
       "      <td>0</td>\n",
       "    </tr>\n",
       "    <tr>\n",
       "      <th>3</th>\n",
       "      <td>2020-03-04</td>\n",
       "      <td>New York City</td>\n",
       "      <td>New York</td>\n",
       "      <td>2</td>\n",
       "      <td>0</td>\n",
       "    </tr>\n",
       "    <tr>\n",
       "      <th>4</th>\n",
       "      <td>2020-03-05</td>\n",
       "      <td>New York City</td>\n",
       "      <td>New York</td>\n",
       "      <td>4</td>\n",
       "      <td>0</td>\n",
       "    </tr>\n",
       "    <tr>\n",
       "      <th>...</th>\n",
       "      <td>...</td>\n",
       "      <td>...</td>\n",
       "      <td>...</td>\n",
       "      <td>...</td>\n",
       "      <td>...</td>\n",
       "    </tr>\n",
       "    <tr>\n",
       "      <th>205</th>\n",
       "      <td>2020-09-22</td>\n",
       "      <td>New York City</td>\n",
       "      <td>New York</td>\n",
       "      <td>245495</td>\n",
       "      <td>23780</td>\n",
       "    </tr>\n",
       "    <tr>\n",
       "      <th>206</th>\n",
       "      <td>2020-09-23</td>\n",
       "      <td>New York City</td>\n",
       "      <td>New York</td>\n",
       "      <td>245776</td>\n",
       "      <td>23780</td>\n",
       "    </tr>\n",
       "    <tr>\n",
       "      <th>207</th>\n",
       "      <td>2020-09-24</td>\n",
       "      <td>New York City</td>\n",
       "      <td>New York</td>\n",
       "      <td>246198</td>\n",
       "      <td>23785</td>\n",
       "    </tr>\n",
       "    <tr>\n",
       "      <th>208</th>\n",
       "      <td>2020-09-25</td>\n",
       "      <td>New York City</td>\n",
       "      <td>New York</td>\n",
       "      <td>246570</td>\n",
       "      <td>23792</td>\n",
       "    </tr>\n",
       "    <tr>\n",
       "      <th>209</th>\n",
       "      <td>2020-09-26</td>\n",
       "      <td>New York City</td>\n",
       "      <td>New York</td>\n",
       "      <td>247000</td>\n",
       "      <td>23795</td>\n",
       "    </tr>\n",
       "  </tbody>\n",
       "</table>\n",
       "<p>210 rows × 5 columns</p>\n",
       "</div>"
      ],
      "text/plain": [
       "          date         county     state   cases  deaths\n",
       "0   2020-03-01  New York City  New York       1       0\n",
       "1   2020-03-02  New York City  New York       1       0\n",
       "2   2020-03-03  New York City  New York       2       0\n",
       "3   2020-03-04  New York City  New York       2       0\n",
       "4   2020-03-05  New York City  New York       4       0\n",
       "..         ...            ...       ...     ...     ...\n",
       "205 2020-09-22  New York City  New York  245495   23780\n",
       "206 2020-09-23  New York City  New York  245776   23780\n",
       "207 2020-09-24  New York City  New York  246198   23785\n",
       "208 2020-09-25  New York City  New York  246570   23792\n",
       "209 2020-09-26  New York City  New York  247000   23795\n",
       "\n",
       "[210 rows x 5 columns]"
      ]
     },
     "metadata": {},
     "output_type": "display_data"
    },
    {
     "data": {
      "text/html": [
       "<div>\n",
       "<style scoped>\n",
       "    .dataframe tbody tr th:only-of-type {\n",
       "        vertical-align: middle;\n",
       "    }\n",
       "\n",
       "    .dataframe tbody tr th {\n",
       "        vertical-align: top;\n",
       "    }\n",
       "\n",
       "    .dataframe thead th {\n",
       "        text-align: right;\n",
       "    }\n",
       "</style>\n",
       "<table border=\"1\" class=\"dataframe\">\n",
       "  <thead>\n",
       "    <tr style=\"text-align: right;\">\n",
       "      <th></th>\n",
       "      <th>cases_inc</th>\n",
       "      <th>deaths_inc</th>\n",
       "      <th>date</th>\n",
       "    </tr>\n",
       "  </thead>\n",
       "  <tbody>\n",
       "    <tr>\n",
       "      <th>0</th>\n",
       "      <td>1</td>\n",
       "      <td>0</td>\n",
       "      <td>2020-03-01</td>\n",
       "    </tr>\n",
       "    <tr>\n",
       "      <th>1</th>\n",
       "      <td>0</td>\n",
       "      <td>0</td>\n",
       "      <td>2020-03-02</td>\n",
       "    </tr>\n",
       "    <tr>\n",
       "      <th>2</th>\n",
       "      <td>1</td>\n",
       "      <td>0</td>\n",
       "      <td>2020-03-03</td>\n",
       "    </tr>\n",
       "    <tr>\n",
       "      <th>3</th>\n",
       "      <td>0</td>\n",
       "      <td>0</td>\n",
       "      <td>2020-03-04</td>\n",
       "    </tr>\n",
       "    <tr>\n",
       "      <th>4</th>\n",
       "      <td>2</td>\n",
       "      <td>0</td>\n",
       "      <td>2020-03-05</td>\n",
       "    </tr>\n",
       "    <tr>\n",
       "      <th>...</th>\n",
       "      <td>...</td>\n",
       "      <td>...</td>\n",
       "      <td>...</td>\n",
       "    </tr>\n",
       "    <tr>\n",
       "      <th>205</th>\n",
       "      <td>348</td>\n",
       "      <td>-2</td>\n",
       "      <td>2020-09-22</td>\n",
       "    </tr>\n",
       "    <tr>\n",
       "      <th>206</th>\n",
       "      <td>281</td>\n",
       "      <td>0</td>\n",
       "      <td>2020-09-23</td>\n",
       "    </tr>\n",
       "    <tr>\n",
       "      <th>207</th>\n",
       "      <td>422</td>\n",
       "      <td>5</td>\n",
       "      <td>2020-09-24</td>\n",
       "    </tr>\n",
       "    <tr>\n",
       "      <th>208</th>\n",
       "      <td>372</td>\n",
       "      <td>7</td>\n",
       "      <td>2020-09-25</td>\n",
       "    </tr>\n",
       "    <tr>\n",
       "      <th>209</th>\n",
       "      <td>430</td>\n",
       "      <td>3</td>\n",
       "      <td>2020-09-26</td>\n",
       "    </tr>\n",
       "  </tbody>\n",
       "</table>\n",
       "<p>210 rows × 3 columns</p>\n",
       "</div>"
      ],
      "text/plain": [
       "     cases_inc  deaths_inc       date\n",
       "0            1           0 2020-03-01\n",
       "1            0           0 2020-03-02\n",
       "2            1           0 2020-03-03\n",
       "3            0           0 2020-03-04\n",
       "4            2           0 2020-03-05\n",
       "..         ...         ...        ...\n",
       "205        348          -2 2020-09-22\n",
       "206        281           0 2020-09-23\n",
       "207        422           5 2020-09-24\n",
       "208        372           7 2020-09-25\n",
       "209        430           3 2020-09-26\n",
       "\n",
       "[210 rows x 3 columns]"
      ]
     },
     "metadata": {},
     "output_type": "display_data"
    },
    {
     "name": "stdout",
     "output_type": "stream",
     "text": [
      "            cases_inc  deaths_inc\n",
      "date                             \n",
      "2020-03-01          1           0\n",
      "2020-03-02          0           0\n",
      "2020-03-03          1           0\n",
      "2020-03-04          0           0\n",
      "2020-03-05          2           0\n",
      "...               ...         ...\n",
      "2020-09-22        348          -2\n",
      "2020-09-23        281           0\n",
      "2020-09-24        422           5\n",
      "2020-09-25        372           7\n",
      "2020-09-26        430           3\n",
      "\n",
      "[210 rows x 2 columns]\n"
     ]
    },
    {
     "data": {
      "text/plain": [
       "<matplotlib.axes._subplots.AxesSubplot at 0x11c503910>"
      ]
     },
     "execution_count": 40,
     "metadata": {},
     "output_type": "execute_result"
    },
    {
     "data": {
      "image/png": "[encoded data removed]",
      "text/plain": [
       "<Figure size 1080x432 with 1 Axes>"
      ]
     },
     "metadata": {},
     "output_type": "display_data"
    }
   ],
   "source": [
    "#the rate of differences between cases and deaths of each row\n",
    "# np.diff: NumpyArray object. returns a list with difference between each consecutive row\n",
    "onlyCases = list(NYCdata_clean['cases'])\n",
    "cases_increase_lst = list(np.diff(onlyCases))\n",
    "\n",
    "# .insert() is list’s function through which we can add element at a specific location. \n",
    "#first argument is index of list and second is value.\n",
    "#used 0 as index to add at the start and 1 as value which is difference between 0 and 1st date’s cases\n",
    "cases_increase_lst = cases_increase_lst\n",
    "cases_increase_lst.insert(0,1)\n",
    "\n",
    "onlyDeaths = list(NYCdata_clean['deaths'])\n",
    "deaths_increase_lst = list(np.diff(onlyDeaths))\n",
    "\n",
    "#used 0 as index to add at the start and 0 as value which is between 0 and 1st date’s deaths\n",
    "deaths_increase_lst = deaths_increase_lst\n",
    "deaths_increase_lst.insert(0,0)\n",
    "#In the end there are two lists of difference between each consecutive row’s cases and deaths.\n",
    "\n",
    "NYCdata_reindexed = NYCdata_clean\n",
    "#display(NYCdata_clean)\n",
    "increase_df = pd.DataFrame({\"cases_inc\":cases_increase_lst, \"deaths_inc\": deaths_increase_lst})\n",
    "\n",
    "#NYCdata_reindexed.index = NYCdata_reindexed.reset_index(drop=True)\n",
    "NYCdata_reindexed.index = increase_df.index\n",
    "display(NYCdata_reindexed)\n",
    "increase_df['date'] = NYCdata_reindexed['date']\n",
    "display(increase_df)\n",
    "\n",
    "increase_datetime_df = increase_df\n",
    "increase_datetime_df['date'] = pd.to_datetime(increase_df['date'], format='%Y-%m-%d')\n",
    "increase_datetimeIndex_df = increase_datetime_df.set_index(['date'])\n",
    "#indexing in a different form.\n",
    "increase_datetimeIndex_df.index = pd.to_datetime(increase_datetimeIndex_df.index)\n",
    "print(increase_datetimeIndex_df)\n",
    "increase_datetimeIndex_df[[\"cases_inc\", \"deaths_inc\"]].plot(figsize=(15,6))\n"
   ]
  },
  {
   "cell_type": "markdown",
   "metadata": {},
   "source": [
    "<strong>This shows that cases and death rate has decreased since June.</strong>"
   ]
  },
  {
   "cell_type": "markdown",
   "metadata": {},
   "source": []
  },
  {
   "cell_type": "markdown",
   "metadata": {},
   "source": []
  },
  {
   "cell_type": "markdown",
   "metadata": {},
   "source": [
    "## Refrences"
   ]
  },
  {
   "cell_type": "markdown",
   "metadata": {},
   "source": [
    "1. https://www.who.int/health-topics/coronavirus#tab=tab_1"
   ]
  },
  {
   "cell_type": "markdown",
   "metadata": {},
   "source": [
    "2. https://www.kaggle.com/sudalairajkumar/covid19-in-usa?select=us_counties_covid19_daily.csv "
   ]
  },
  {
   "cell_type": "markdown",
   "metadata": {},
   "source": [
    "3. https://nhchc.org/covid-dashboard/"
   ]
  }
 ],
 "metadata": {
  "kernelspec": {
   "display_name": "Python 3",
   "language": "python",
   "name": "python3"
  },
  "language_info": {
   "codemirror_mode": {
    "name": "ipython",
    "version": 3
   },
   "file_extension": ".py",
   "mimetype": "text/x-python",
   "name": "python",
   "nbconvert_exporter": "python",
   "pygments_lexer": "ipython3",
   "version": "3.8.3"
  }
 },
 "nbformat": 4,
 "nbformat_minor": 4
}
